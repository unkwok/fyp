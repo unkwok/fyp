{
 "cells": [
  {
   "cell_type": "markdown",
   "id": "b33e652d",
   "metadata": {},
   "source": [
    "### Import Package"
   ]
  },
  {
   "cell_type": "code",
   "execution_count": null,
   "id": "ad005eee",
   "metadata": {},
   "outputs": [],
   "source": [
    "import pandas as pd\n",
    "import numpy as np\n",
    "import datetime as dt\n",
    "import matplotlib.pyplot as plt\n",
    "from stockstats import StockDataFrame\n",
    "\n",
    "from sklearn.model_selection import train_test_split\n",
    "from sklearn import linear_model\n",
    "from sklearn.svm import SVR\n",
    "\n",
    "import tensorflow as tf\n",
    "from tensorflow import keras\n",
    "from tensorflow.keras import datasets, layers, models\n",
    "\n",
    "from math import floor"
   ]
  },
  {
   "cell_type": "markdown",
   "id": "dc03bed7",
   "metadata": {},
   "source": [
    "### Set the data source path"
   ]
  },
  {
   "cell_type": "code",
   "execution_count": null,
   "id": "2436b12c",
   "metadata": {},
   "outputs": [],
   "source": [
    "# Set the data source path\n",
    "interval = \"daily\"\n",
    "region = \"us\"\n",
    "ex_product = \"nasdaq stocks\"\n",
    "section = \"1\"\n",
    "stock = \"aapl\"\n",
    "data_path = \"test_data/\"+interval+\"/\"+region+\"/\"+ex_product+\"/\"+section+\"/\"+stock+\".\"+region+\".txt\"\n",
    "\n",
    "# Use Apple .Inc stock for training\n",
    "\n",
    "# Extract only the OLHC\n",
    "column_to_use = [\"OPEN\",\"LOW\",\"HIGH\",\"CLOSE\"]\n",
    "\n"
   ]
  },
  {
   "cell_type": "markdown",
   "id": "463f91fe",
   "metadata": {},
   "source": [
    "### Load the stock data"
   ]
  },
  {
   "cell_type": "code",
   "execution_count": null,
   "id": "d92c24ac-3419-4a42-973b-e21ae036c2db",
   "metadata": {},
   "outputs": [],
   "source": [
    "# Load the data\n",
    "ori_data = pd.read_csv(data_path, sep=\",\")\n",
    "\n",
    "# Rename the column names\n",
    "ori_data.columns = [colname[1:-1] for colname in ori_data.columns]\n",
    "\n",
    "# Drop the unnecessary\n",
    "ori_data.index = ori_data[\"DATE\"]\n",
    "ori_data = ori_data.drop(columns=['DATE','PER','TIME', 'TICKER', 'OPENINT'])\n",
    "ori_data.columns = [\"open\",\"high\",\"low\",\"close\",\"volume\"]"
   ]
  },
  {
   "cell_type": "code",
   "execution_count": null,
   "id": "a642f1ad",
   "metadata": {},
   "outputs": [],
   "source": [
    "# Use online package to generate additional features\n",
    "x = StockDataFrame(ori_data)\n",
    "data = x[['open','high','low','close','volume',\n",
    "          'boll', 'boll_ub', 'boll_lb',\n",
    "          'macd', 'macdh', 'macds',\n",
    "          'rsi_11', 'rsi_14', 'rsi_21']]\n",
    "\n"
   ]
  },
  {
   "cell_type": "code",
   "execution_count": null,
   "id": "375ee0cc",
   "metadata": {},
   "outputs": [],
   "source": [
    "data"
   ]
  },
  {
   "cell_type": "markdown",
   "id": "7b9870bb",
   "metadata": {},
   "source": [
    "### Split the train and test data"
   ]
  },
  {
   "cell_type": "code",
   "execution_count": null,
   "id": "13cf875c",
   "metadata": {},
   "outputs": [],
   "source": [
    "# Split the train and test data\n",
    "\n",
    "def custom_split(data,start,end):\n",
    "    train = (data.index >= start) & (data.index <= end)\n",
    "    train_X = data[train]\n",
    "    \n",
    "    return train_X"
   ]
  },
  {
   "cell_type": "code",
   "execution_count": null,
   "id": "f7045424",
   "metadata": {},
   "outputs": [],
   "source": [
    "train_X = custom_split(data,start = 20130101,end = 20171031)\n",
    "valid_X = custom_split(data,start = 20171101,end = 20181231)\n",
    "test_X = custom_split(data,start = 20190101,end = 20201231)"
   ]
  },
  {
   "cell_type": "code",
   "execution_count": null,
   "id": "098a23d1",
   "metadata": {},
   "outputs": [],
   "source": [
    "len(test_X)"
   ]
  },
  {
   "cell_type": "markdown",
   "id": "834da2c9",
   "metadata": {},
   "source": [
    "### Label the target result (opening price on 11th day)"
   ]
  },
  {
   "cell_type": "code",
   "execution_count": null,
   "id": "8d692dac",
   "metadata": {},
   "outputs": [],
   "source": [
    "# Assume we use 10 days price data to predict closing price of the 11th day\n",
    "num_day_to_predict = 10"
   ]
  },
  {
   "cell_type": "code",
   "execution_count": null,
   "id": "d9546f9a",
   "metadata": {},
   "outputs": [],
   "source": [
    "def produce_result_target_price(X,num_day = 10,result_col_name = \"result_price\"):\n",
    "    y = pd.DataFrame(np.nan, index=X.index, columns=[result_col_name])\n",
    "    for i in range(10,len(X)):\n",
    "        y.loc[X.index[i-1],result_col_name] = X.loc[X.index[i],\"open\"]\n",
    "    \n",
    "    return y"
   ]
  },
  {
   "cell_type": "code",
   "execution_count": null,
   "id": "9e261db8",
   "metadata": {},
   "outputs": [],
   "source": [
    "train_y = produce_result_target_price(train_X,num_day_to_predict)\n",
    "valid_y = produce_result_target_price(valid_X,num_day_to_predict)\n",
    "test_y = produce_result_target_price(test_X,num_day_to_predict)"
   ]
  },
  {
   "cell_type": "code",
   "execution_count": null,
   "id": "4d8f8f01",
   "metadata": {},
   "outputs": [],
   "source": [
    "test_y.head(20)"
   ]
  },
  {
   "cell_type": "markdown",
   "id": "f65a8ca1",
   "metadata": {},
   "source": [
    "### Transform the 10-day data into one vector"
   ]
  },
  {
   "cell_type": "code",
   "execution_count": null,
   "id": "935e1b62",
   "metadata": {},
   "outputs": [],
   "source": [
    "def transform_x_data_to_one_vector(X,num_day = 10):\n",
    "    col_name = []\n",
    "    for i in range(num_day):\n",
    "        for j in X.columns:\n",
    "            col_name.append(j+\"-\"+str(i))\n",
    "    new_X = pd.DataFrame(np.nan, index=X.index, columns=col_name)\n",
    "    \n",
    "    for i in range(len(X)-9):\n",
    "        for col in col_name:\n",
    "            split_list = col.split(\"-\")\n",
    "            new_X.loc[X.index[i],col] = X.loc[X.index[i+int(split_list[1])],split_list[0]]\n",
    "    \n",
    "    return new_X"
   ]
  },
  {
   "cell_type": "code",
   "execution_count": null,
   "id": "d2e6ed27",
   "metadata": {},
   "outputs": [],
   "source": [
    "train_X_10 = transform_x_data_to_one_vector(train_X,num_day_to_predict)\n",
    "valid_X_10 = transform_x_data_to_one_vector(valid_X,num_day_to_predict)\n",
    "test_X_10 = transform_x_data_to_one_vector(test_X,num_day_to_predict)"
   ]
  },
  {
   "cell_type": "code",
   "execution_count": null,
   "id": "061a25ab",
   "metadata": {},
   "outputs": [],
   "source": [
    "test_X_10.tail(20)"
   ]
  },
  {
   "cell_type": "markdown",
   "id": "5ee931a2",
   "metadata": {},
   "source": [
    "### Drop out rows with NaN"
   ]
  },
  {
   "cell_type": "code",
   "execution_count": null,
   "id": "b68259fd",
   "metadata": {},
   "outputs": [],
   "source": [
    "def drop_nan_row_y(y,num_day = 10):\n",
    "    drop_list = [y.index[i] for i in range(num_day-1)]\n",
    "    drop_list.append(y.index[-1])\n",
    "    return y.drop(drop_list)\n",
    "\n",
    "def drop_nan_row_X_10(X,num_day = 10):\n",
    "    drop_list = [X.index[-i] for i in range(1,num_day+1)]\n",
    "    return X.drop(drop_list)"
   ]
  },
  {
   "cell_type": "code",
   "execution_count": null,
   "id": "0a00d870",
   "metadata": {},
   "outputs": [],
   "source": [
    "new_train_X_10 = drop_nan_row_X_10(train_X_10,num_day_to_predict)\n",
    "new_train_y = drop_nan_row_y(train_y,num_day_to_predict)\n",
    "\n",
    "new_valid_X_10  = drop_nan_row_X_10(valid_X_10,num_day_to_predict)\n",
    "new_valid_y = drop_nan_row_y(valid_y,num_day_to_predict)\n",
    "\n",
    "new_test_X_10  = drop_nan_row_X_10(test_X_10,num_day_to_predict)\n",
    "new_test_y = drop_nan_row_y(test_y,num_day_to_predict)\n",
    "\n"
   ]
  },
  {
   "cell_type": "code",
   "execution_count": null,
   "id": "4ca8a783",
   "metadata": {},
   "outputs": [],
   "source": [
    "# Keep a copy for reverting prediction result\n",
    "old_train_X_10 = new_train_X_10\n",
    "old_train_y = new_train_y"
   ]
  },
  {
   "cell_type": "markdown",
   "id": "73dbc1d9",
   "metadata": {},
   "source": [
    "### Normalize data row by row"
   ]
  },
  {
   "cell_type": "code",
   "execution_count": null,
   "id": "b54c372e",
   "metadata": {},
   "outputs": [],
   "source": [
    "def normalize_data_by_row(X,y):\n",
    "    norm_X = X.sub(X.mean(axis=0), axis=1).div(X.std(axis=0), axis=1)\n",
    "    \n",
    "    col_list =[] \n",
    "    for col in X.columns:\n",
    "        if \"open\" in col:\n",
    "            col_list.append(col)\n",
    "    \n",
    "    temp_y = y.loc[:,\"result_price\"]\n",
    "    mean_10_day = np.mean(X.loc[:,col_list],axis=1)\n",
    "    mean_10_day.index = temp_y.index\n",
    "    std_10_day = np.std(X.loc[:,col_list],axis=1)\n",
    "    std_10_day.index = temp_y.index\n",
    "\n",
    "    norm_y = pd.DataFrame((temp_y-mean_10_day)/std_10_day,\n",
    "                          columns=[\"result_price\"])\n",
    "                         \n",
    "    return (norm_X,norm_y)"
   ]
  },
  {
   "cell_type": "code",
   "execution_count": null,
   "id": "571f5ec2",
   "metadata": {},
   "outputs": [],
   "source": [
    "new_train_X_10,new_train_y = normalize_data_by_row(new_train_X_10,new_train_y)\n",
    "new_valid_X_10,new_valid_y = normalize_data_by_row(new_valid_X_10,new_valid_y)\n",
    "new_test_X_10,new_test_y = normalize_data_by_row(new_test_X_10,new_test_y)"
   ]
  },
  {
   "cell_type": "markdown",
   "id": "628fc4f2",
   "metadata": {},
   "source": [
    "### Model Training and Fitting"
   ]
  },
  {
   "cell_type": "code",
   "execution_count": null,
   "id": "d734becf",
   "metadata": {},
   "outputs": [],
   "source": [
    "# Use Support Vector Regressor to fit the data\n",
    "\n",
    "# C : Regularization parameter. The strength of the regularization is inversely proportional to C.\n",
    "C = 100\n",
    "\n",
    "# gamma : Kernel coefficient\n",
    "gamma = 0.00001\n",
    "\n",
    "# radial basis function kernel\n",
    "kernel=\"rbf\"\n",
    "\n",
    "svr = SVR(kernel=kernel, C=C, gamma=gamma)\n",
    "svr.fit(new_train_X_10, new_train_y)"
   ]
  },
  {
   "cell_type": "markdown",
   "id": "ad6201ca",
   "metadata": {},
   "source": [
    "### Model Testing"
   ]
  },
  {
   "cell_type": "code",
   "execution_count": null,
   "id": "aaae975c",
   "metadata": {},
   "outputs": [],
   "source": [
    "\n",
    "svr_prediction = svr.predict(new_valid_X_10)\n",
    "svr_confidence = svr.score(new_valid_X_10, new_valid_y)\n",
    "print(\"svr confidence: \", svr_confidence)"
   ]
  },
  {
   "cell_type": "code",
   "execution_count": null,
   "id": "0f5fbb00",
   "metadata": {},
   "outputs": [],
   "source": [
    "reverted_predict_y = new_valid_X_10.mean(axis=1) + new_valid_X_10.std(axis=1)*svr_prediction\n",
    "reverted_predict_y"
   ]
  },
  {
   "cell_type": "code",
   "execution_count": null,
   "id": "06c93eeb",
   "metadata": {},
   "outputs": [],
   "source": [
    "reverted_predict_y"
   ]
  },
  {
   "cell_type": "markdown",
   "id": "c1659f5e",
   "metadata": {},
   "source": [
    "### Plot the graph"
   ]
  },
  {
   "cell_type": "code",
   "execution_count": null,
   "id": "f8d53847",
   "metadata": {},
   "outputs": [],
   "source": [
    "plt.plot(old_test_y.index, old_test_y[\"result_price\"], label = \"Actual\", color = 'Black')\n",
    "plt.plot(reverted_predict_y.index, reverted_predict_y, label = \"Predicted\", color = 'Orange')\n",
    "plt.xlabel(\"timestamp\")\n",
    "plt.ylabel(\"Price (USD)\")\n",
    "plt.title(\"Prediction of \"+stock.upper()+\" using SVR\")\n",
    "\n",
    "plt.legend()\n",
    "plt.savefig(\"plot/SVR/\"+stock.upper()+\"-day(\"+str(num_day_to_predict)+\")kernel(\"+kernel+\")C(\"+str(C)+\")gamma(\"+str(gamma)+\")confidence(\"+str(round(svm_confidence,5))+\").jpg\",\n",
    "            dpi=600)\n",
    "plt.show()\n",
    "\n",
    "\n",
    "\n",
    "\n"
   ]
  },
  {
   "cell_type": "code",
   "execution_count": null,
   "id": "617290e0",
   "metadata": {},
   "outputs": [],
   "source": []
  }
 ],
 "metadata": {
  "kernelspec": {
   "display_name": "Python 3 (ipykernel)",
   "language": "python",
   "name": "python3"
  },
  "language_info": {
   "codemirror_mode": {
    "name": "ipython",
    "version": 3
   },
   "file_extension": ".py",
   "mimetype": "text/x-python",
   "name": "python",
   "nbconvert_exporter": "python",
   "pygments_lexer": "ipython3",
   "version": "3.7.11"
  }
 },
 "nbformat": 4,
 "nbformat_minor": 5
}
